{
 "cells": [
  {
   "cell_type": "markdown",
   "metadata": {},
   "source": [
    "# Lecture 1 - Apache Hadoop이란?"
   ]
  },
  {
   "cell_type": "markdown",
   "metadata": {},
   "source": [
    "## 1. 빅데이터를 저장, 처리, 분석할 수 있는 소프트웨어 프레임워크\n",
    "\n",
    "- Distributed : 수십만대의 컴퓨터에 자료 분산 저장 및 처리\n",
    "- Scalable : 용량이 증대되는 대로 컴퓨터 추가\n",
    "- Fault-tolerant : 하나이상의 컴퓨터가 고장나는 경우에도 시스템이 정상 동작\n",
    "- Open Source : 공개 소프트웨어"
   ]
  },
  {
   "cell_type": "markdown",
   "metadata": {},
   "source": [
    "## 2. Apache Hadoop\n",
    "\n",
    "- 오픈 소스 프로젝트, 약 10개 회사의 60명의 committer\n",
    "    * cloudera, Yahoo!, Facebook, Apple\n",
    "- 수 백명의 contributor들이 개발 중이고, bug 수정 등의 작업을 수행\n",
    "- 다양하고 많은 프로젝트, 애플리케이션, 도구에서 사용됨"
   ]
  },
  {
   "cell_type": "markdown",
   "metadata": {},
   "source": [
    "## 3. 다양한 에코 시스템\n",
    "\n",
    "- Centralize system외에 여러가지 소프트웨어가 추가됨\n",
    "    * mahout, hive, pig, HBASE (java, scala 기반이라 일반 범용성을 띄게 SQL이나 다른걸 쓰게하기 위해 생김)\n",
    "- hive에서 SQL사용"
   ]
  },
  {
   "cell_type": "markdown",
   "metadata": {},
   "source": [
    "## 4. The Motivation For Hadoop\n",
    "\n",
    "- 기존 large-scale 컴퓨팅 시스템의 문제점을 해결하기 위한 방안\n",
    "- Google 과 같이 대용량 데이터 처리를 처리 하는 응용 분야 출현\n",
    "    * storge(GFX), computation(MapReduce) 그러나 Open Source X\n",
    "- Apache 그룹에서 GFX와 MapReduce를 사용해 만든게 Hadoop"
   ]
  },
  {
   "cell_type": "markdown",
   "metadata": {},
   "source": [
    "## 5. Traditional Large-Scale Computation\n",
    "\n",
    "- 기존에는 processor에 의존하는 computation을 수행\n",
    "    * 상대적으로 적은 양의 데이터\n",
    "    * 많은 양의 복잡한 처리가 요구됨\n",
    "- 초기 해결 방법 : 컴퓨터의 성능 향상\n",
    "    * 더 빠른 processor와 많은 memory\n",
    "    * 지속적으로 향상시키는 것에 한계점이 존재\n",
    "    "
   ]
  },
  {
   "cell_type": "markdown",
   "metadata": {},
   "source": [
    "## 6. 분산 처리 시스템\n",
    "\n",
    "- 해결 방법 : 더 많은 컴퓨터를 사용\n",
    "- 분산 처리 시스템의 진화\n",
    "    * 하나의 작업에 여러 대의 machine을 사용\n",
    "    * MPI(Message Passing Interface)\n",
    "   "
   ]
  }
 ],
 "metadata": {
  "kernelspec": {
   "display_name": "Python 2",
   "language": "python",
   "name": "python2"
  },
  "language_info": {
   "codemirror_mode": {
    "name": "ipython",
    "version": 2
   },
   "file_extension": ".py",
   "mimetype": "text/x-python",
   "name": "python",
   "nbconvert_exporter": "python",
   "pygments_lexer": "ipython2",
   "version": "2.7.12"
  }
 },
 "nbformat": 4,
 "nbformat_minor": 1
}
